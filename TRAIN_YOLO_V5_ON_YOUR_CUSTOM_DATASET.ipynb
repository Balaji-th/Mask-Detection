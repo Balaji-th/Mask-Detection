{
  "nbformat": 4,
  "nbformat_minor": 0,
  "metadata": {
    "colab": {
      "name": "TRAIN_YOLO_V5_ON_YOUR_CUSTOM_DATASET.ipynb",
      "private_outputs": true,
      "provenance": [],
      "collapsed_sections": []
    },
    "kernelspec": {
      "name": "python3",
      "display_name": "Python 3"
    },
    "accelerator": "GPU"
  },
  "cells": [
    {
      "cell_type": "code",
      "metadata": {
        "id": "kc6GDXJ2WRqD"
      },
      "source": [
        "from google.colab import drive\n",
        "drive.mount('/content/drive')"
      ],
      "execution_count": null,
      "outputs": []
    },
    {
      "cell_type": "code",
      "metadata": {
        "id": "9MiLYBBmCBKG"
      },
      "source": [
        "!nvidia-smi"
      ],
      "execution_count": null,
      "outputs": []
    },
    {
      "cell_type": "markdown",
      "metadata": {
        "id": "xhl6GuxJFml5"
      },
      "source": [
        "# UNZIPPING THE DATASET\n"
      ]
    },
    {
      "cell_type": "code",
      "metadata": {
        "id": "eqd267oMb49O"
      },
      "source": [
        "!unzip -q /content/drive/MyDrive/Dataset/Mask_Yolo_Splited.zip"
      ],
      "execution_count": null,
      "outputs": []
    },
    {
      "cell_type": "code",
      "metadata": {
        "id": "IG7HCk8Eg5xY"
      },
      "source": [
        "#!unzip -q /content/drive/MyDrive/Project/Mask_Detection_Yolo-V5s/Mask_detection_Yolo-V5s.zip"
      ],
      "execution_count": null,
      "outputs": []
    },
    {
      "cell_type": "code",
      "metadata": {
        "id": "dwHjB2ieLSVS"
      },
      "source": [
        "#!rm /content/Mask_detection_Yolo-V5s"
      ],
      "execution_count": null,
      "outputs": []
    },
    {
      "cell_type": "markdown",
      "metadata": {
        "id": "VVO58hItFsT4"
      },
      "source": [
        "#CLONING THE YOLO-V5 FILES FROM OFFICIAL REPOSITORY"
      ]
    },
    {
      "cell_type": "code",
      "metadata": {
        "id": "GBAJ4od4UEL3"
      },
      "source": [
        "!git clone https://github.com/ultralytics/yolov5.git"
      ],
      "execution_count": null,
      "outputs": []
    },
    {
      "cell_type": "markdown",
      "metadata": {
        "id": "Wl6BjdGkF2BK"
      },
      "source": [
        "# CHANGING THE DIRECTORY"
      ]
    },
    {
      "cell_type": "code",
      "metadata": {
        "id": "Gu5UjPJTW9GW"
      },
      "source": [
        "%cd /content/yolov5"
      ],
      "execution_count": null,
      "outputs": []
    },
    {
      "cell_type": "markdown",
      "metadata": {
        "id": "ge9PgTIeF6rI"
      },
      "source": [
        "#INSTALLING THE DEPENDENCIES"
      ]
    },
    {
      "cell_type": "code",
      "metadata": {
        "id": "gypm2_zVcm-m"
      },
      "source": [
        "!pip install -r requirements.txt"
      ],
      "execution_count": null,
      "outputs": []
    },
    {
      "cell_type": "code",
      "metadata": {
        "id": "V6qLBVul0TV7"
      },
      "source": [
        "!pip install albumentations==1.0.3"
      ],
      "execution_count": null,
      "outputs": []
    },
    {
      "cell_type": "markdown",
      "metadata": {
        "id": "QflTgxaqGAkh"
      },
      "source": [
        "# DOWNLOADING ALL VERSIONS OF YOLO-V5 MODEL"
      ]
    },
    {
      "cell_type": "code",
      "metadata": {
        "id": "xhasEsGmWc15"
      },
      "source": [
        "!/content/yolov5/data/scripts/download_weights.sh"
      ],
      "execution_count": null,
      "outputs": []
    },
    {
      "cell_type": "markdown",
      "metadata": {
        "id": "kUi4h9WKGN_q"
      },
      "source": [
        "# STEPS BEFORE TRAINING CUSTOM DATASET:\n",
        "1. Go to yolov5/data/\n",
        "2. Open coco128.yaml\n",
        "3. Edit the following inside it:\n",
        "    \n",
        "\n",
        "      1.   Training and Test file path\n",
        "      2.   Number of classes and Class names.\n",
        "\n"
      ]
    },
    {
      "cell_type": "markdown",
      "metadata": {
        "id": "eonZvqVWHEea"
      },
      "source": [
        "# TRAINING THE YOLO-V5 MODEL"
      ]
    },
    {
      "cell_type": "code",
      "metadata": {
        "id": "JBz4MO3NXVPW"
      },
      "source": [
        "!python train.py --img 416 --batch 8 --epochs 500 --data coco128.yaml --weights yolov5s.pt --nosave --cache "
      ],
      "execution_count": null,
      "outputs": []
    },
    {
      "cell_type": "markdown",
      "metadata": {
        "id": "lJM0X-gQHLig"
      },
      "source": [
        "# VISUALIZING THE TRAINING METRICS"
      ]
    },
    {
      "cell_type": "code",
      "metadata": {
        "id": "O1_iKB2AWonF"
      },
      "source": [
        "%load_ext tensorboard\n",
        "%tensorboard --logdir runs/train"
      ],
      "execution_count": null,
      "outputs": []
    },
    {
      "cell_type": "markdown",
      "metadata": {
        "id": "5STJ2WzXHVPx"
      },
      "source": [
        "# TESTING"
      ]
    },
    {
      "cell_type": "code",
      "metadata": {
        "id": "vkcJGHFmcPf3"
      },
      "source": [
        "!python val.py --weights /content/yolov5/runs/train/exp2/weights/best.pt --data coco128.yaml --img 416 "
      ],
      "execution_count": null,
      "outputs": []
    },
    {
      "cell_type": "markdown",
      "metadata": {
        "id": "L9AV1cUQHSLg"
      },
      "source": [
        "# DETECTING ON NEW IMAGES"
      ]
    },
    {
      "cell_type": "code",
      "metadata": {
        "id": "5R3aBtYFr_5d"
      },
      "source": [
        "!python detect.py --source /content/test/images --weights /content/yolov5/runs/train/exp2/weights/best.pt --img 416 --save-txt --save-conf"
      ],
      "execution_count": null,
      "outputs": []
    },
    {
      "cell_type": "code",
      "metadata": {
        "id": "okb9XulJdmhj"
      },
      "source": [
        "!zip -r /content/Mask_detection_Nov11.zip /content/yolov5 "
      ],
      "execution_count": null,
      "outputs": []
    },
    {
      "cell_type": "code",
      "metadata": {
        "id": "SyjZZKGq4aGa"
      },
      "source": [
        "cp /content/Mask_detection_Nov11.zip /content/drive/MyDrive/Project"
      ],
      "execution_count": null,
      "outputs": []
    },
    {
      "cell_type": "markdown",
      "metadata": {
        "id": "5Yh2zd2AHkUg"
      },
      "source": [
        "#RETRAINING FROM THE LAST CHECKPOINT"
      ]
    },
    {
      "cell_type": "code",
      "metadata": {
        "id": "r732j58annF4"
      },
      "source": [
        "!python train.py --weights /content/Mask_detection_Yolo-V5s/runs/train/exp3/weights/best.pt --epochs 100 --img 416"
      ],
      "execution_count": null,
      "outputs": []
    },
    {
      "cell_type": "code",
      "metadata": {
        "id": "e1KbWCaf8EVu"
      },
      "source": [
        ""
      ],
      "execution_count": null,
      "outputs": []
    },
    {
      "cell_type": "markdown",
      "metadata": {
        "id": "HPXuGBA1IaRa"
      },
      "source": [
        ""
      ]
    },
    {
      "cell_type": "code",
      "metadata": {
        "id": "ajBxXQdm8EwW"
      },
      "source": [
        ""
      ],
      "execution_count": null,
      "outputs": []
    },
    {
      "cell_type": "code",
      "metadata": {
        "id": "R8kjYG6-taNg"
      },
      "source": [
        "import re\n",
        "path='/content/yolov5/runs/detect/exp3/labels/11_image.txt'\n",
        "myfile=open(path,'r')\n",
        "lines=myfile.readlines()\n",
        "pattern= \"class_name\"\n",
        "\n",
        "cordinate = []\n",
        "for line in lines:\n",
        "  for x in line.splitlines():\n",
        "    cordinate.append([x[1:]])\n",
        "#   if re.search(pattern,line):\n",
        "#     Cord_Raw=line\n",
        "# Cord=Cord_Raw.split(\"(\")[1].split(\")\")[0].split(\"  \")"
      ],
      "execution_count": null,
      "outputs": []
    },
    {
      "cell_type": "code",
      "metadata": {
        "id": "p7XYQbIKyyW8"
      },
      "source": [
        "cordinate"
      ],
      "execution_count": null,
      "outputs": []
    },
    {
      "cell_type": "code",
      "metadata": {
        "id": "SbKXsc5O19ol"
      },
      "source": [
        "cordinate[0]"
      ],
      "execution_count": null,
      "outputs": []
    },
    {
      "cell_type": "code",
      "metadata": {
        "id": "yvusqn2s2BtU"
      },
      "source": [
        "\n",
        "import cv2\n",
        "img = cv2.imread(\"/content/drive/MyDrive/images/train/11_image.jpg\")\n",
        "print(img.shape)\n",
        "for i in cordinate:\n",
        "  count= 0\n",
        "  for val in i:\n",
        "    value = val.strip().split(\" \")\n",
        "    x_min = int(float(value[0])*img.shape[0])\n",
        "    x_max = x_min + int(float(value[2])*img.shape[0])\n",
        "    y_min = int(float(value[1])*img.shape[1])\n",
        "    y_max = y_min + int(float(value[3])*img.shape[1])\n",
        "    crop_img = img[y_min:y_max, x_min:x_max]\n",
        "    cv2.imwrite(f\"Object_{count}.jpg\",crop_img)\n",
        "    count = count + 1\n",
        "\n",
        "\n",
        "\n"
      ],
      "execution_count": null,
      "outputs": []
    },
    {
      "cell_type": "code",
      "metadata": {
        "id": "nPBJ1AbJAtvd"
      },
      "source": [
        ""
      ],
      "execution_count": null,
      "outputs": []
    },
    {
      "cell_type": "code",
      "metadata": {
        "id": "X6Nj4-gA1uQI"
      },
      "source": [
        "import cv2\n",
        "img = cv2.imread(\"/content/drive/MyDrive/images/train/11_image.jpg\")\n",
        "crop_img = img[y_min:y_max, x_min:x_max]\n",
        "cv2.imwrite(\"Object.jpg\",crop_img)"
      ],
      "execution_count": null,
      "outputs": []
    }
  ]
}